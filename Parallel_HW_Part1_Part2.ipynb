{
 "cells": [
  {
   "cell_type": "markdown",
   "metadata": {},
   "source": [
    "## Part 1"
   ]
  },
  {
   "cell_type": "code",
   "execution_count": null,
   "metadata": {},
   "outputs": [],
   "source": [
    "\"\"\"\n",
    "Created on Fri Apr 14 18:38:46 2017\n",
    "@author: kevin\n",
    "Part 1\n",
    "\"\"\"\n",
    "import matplotlib.pyplot as plt\n",
    "num_processors = range(1,100)\n",
    "proportions = [0.5, 0.67,  0.95, 0.99]\n",
    "colors = ['r','b','g','k']\n",
    "def speedup(p,n):#input proportion and number of processors\n",
    "    speedup = []\n",
    "    for processors in n:\n",
    "        speedup.append(1/((1-p) + p/processors))#value of speed up\n",
    "    return speedup\n",
    "\n",
    "for idx, proportion in enumerate(proportions):\n",
    "    plt.semilogx(num_processors,speedup(proportion,num_processors),label=str(proportion))\n",
    "    \n",
    "plt.legend(loc='upper right')\n",
    "plt.show()"
   ]
  },
  {
   "cell_type": "markdown",
   "metadata": {},
   "source": [
    "## Part 2"
   ]
  },
  {
   "cell_type": "markdown",
   "metadata": {},
   "source": [
    "### PARALLEL USING INITIALIZATION"
   ]
  },
  {
   "cell_type": "code",
   "execution_count": null,
   "metadata": {
    "scrolled": true
   },
   "outputs": [],
   "source": [
    "#!/usr/bin/env python3\n",
    "# -*- coding: utf-8 -*-\n",
    "\"\"\"\n",
    "Created on Thu May  3 13:15:07 2018\n",
    "\n",
    "@author: kevin\n",
    "\"\"\"\n",
    "\n",
    "'''PARALLEL USING INITIALIZATION'''\n",
    "from matplotlib import pyplot\n",
    "import numpy\n",
    "import time\n",
    "import multiprocessing\n",
    "import sys\n",
    "start = time.time()\n",
    "\n",
    "# initial conditions\n",
    "size = 1000\n",
    "num_processors = 2\n",
    "\n",
    "y = multiprocessing.Array('d', 1000, lock=False)\n",
    "new_y = multiprocessing.Array('d', 1000, lock=False)\n",
    "y[480:520] = [1] * 40\n",
    "\n",
    "#break up data, start-end\n",
    "start_end = []\n",
    "chunk_size = size//num_processors\n",
    "for i in range(num_processors):\n",
    "    start_end.append([i*chunk_size,chunk_size*(i+1)])\n",
    "\n",
    "def init_process(y_to_share, new_y_to_share):\n",
    "    global y, new_y\n",
    "    y = y_to_share\n",
    "    new_y = new_y_to_share\n",
    "\n",
    "# parameters\n",
    "D = 20         # diffusion constant/dx^2\n",
    "alpha = 0.3    # threshold\n",
    "\n",
    "# time-step\n",
    "dt = 0.01\n",
    "\n",
    "# our rule for reaction-diffusion\n",
    "def advance(start_end):\n",
    "    start = start_end[0]\n",
    "    end = start_end[1]\n",
    "    #print(\"hello, I am worker: {}\".format(multiprocessing.current_process()))\n",
    "    #print(\"start:{} end:{}\".format(start,end))\n",
    "    #sys.stdout.flush()\n",
    "    #new_y[:] = y[:]\n",
    "    for j in range(start,end):\n",
    "        # diffusion via forward Euler\n",
    "        new_y[j] += dt * (D * (y[j - 1] - 2 * y[j] + y[(j + 1) % size]))\n",
    "\n",
    "        # reaction via forward Euler\n",
    "        new_y[j] += dt * -y[j] * (1 - y[j]) * (alpha - y[j])\n",
    "\n",
    "\n",
    "\n",
    "#initialize our processing pool\n",
    "process_pool = multiprocessing.Pool(\n",
    "                       processes=num_processors,\n",
    "                       initializer=init_process,\n",
    "                       initargs=(y, new_y))\n",
    "\n",
    "#pool = multiprocessing.Pool(processes=num_processors) #instantiate pool\n",
    "# advance through t is at least 100; plot every 20\n",
    "new_y[:] = y[:]\n",
    "for t in numpy.arange(0, 100 + dt, dt):\n",
    "    if t % 20 == 0:\n",
    "        pyplot.plot(y, label='t = %g' % t)\n",
    "    process_pool.map(advance, start_end)\n",
    "    y[:] = new_y[:]#[item for sublist in result for item in sublist]\n",
    "\n",
    "print('calculation: {} s'.format(time.time() - start))\n",
    "\n",
    "pyplot.legend()\n",
    "pyplot.show()"
   ]
  },
  {
   "cell_type": "code",
   "execution_count": null,
   "metadata": {},
   "outputs": [],
   "source": [
    "print((y))\n",
    "print('NOTHING TO SEE HERE')"
   ]
  },
  {
   "cell_type": "markdown",
   "metadata": {},
   "source": [
    "### PARALLEL NOT USING INITIALIZATION"
   ]
  },
  {
   "cell_type": "code",
   "execution_count": 3,
   "metadata": {},
   "outputs": [
    {
     "name": "stdout",
     "output_type": "stream",
     "text": [
      "calculation: 19.535112380981445 s\n"
     ]
    },
    {
     "data": {
      "image/png": "[encoded data removed]",
      "text/plain": [
       "<matplotlib.figure.Figure at 0x7f85247e5c50>"
      ]
     },
     "metadata": {},
     "output_type": "display_data"
    }
   ],
   "source": [
    "#!/usr/bin/env python3\n",
    "# -*- coding: utf-8 -*-\n",
    "\"\"\"\n",
    "Created on Thu May  3 13:16:08 2018\n",
    "\n",
    "@author: kevin\n",
    "\"\"\"\n",
    "\n",
    "'''PARALLEL, NOT USING INITIALIZATION'''\n",
    "from matplotlib import pyplot\n",
    "import numpy\n",
    "import time\n",
    "from multiprocessing import Pool, Array\n",
    "import multiprocessing\n",
    "import sys\n",
    "start = time.time()\n",
    "\n",
    "# initial conditions\n",
    "size = 1000\n",
    "num_processors = 2\n",
    "\n",
    "y = multiprocessing.Array('d', 1000, lock=False)\n",
    "y[480:520] = [1] * 40\n",
    "\n",
    "#break up data, start-end\n",
    "start_end = []\n",
    "chunk_size = size//num_processors\n",
    "for i in range(num_processors):\n",
    "    start_end.append([i*chunk_size,chunk_size*(i+1)])\n",
    "\n",
    "# parameters\n",
    "D = 20         # diffusion constant/dx^2\n",
    "alpha = 0.3    # threshold\n",
    "\n",
    "# time-step\n",
    "dt = 0.01\n",
    "\n",
    "# our rule for reaction-diffusion\n",
    "def advance(start_end):\n",
    "    start = start_end[0]\n",
    "    end = start_end[1]\n",
    "    #print(\"hello, I am worker: {}\".format(multiprocessing.current_process()))\n",
    "    #print(\"start:{} end:{}\".format(start,end))\n",
    "    #sys.stdout.flush()\n",
    "    new_y = list(y)\n",
    "    for j in range(start,end):\n",
    "        # diffusion via forward Euler\n",
    "        new_y[j] += dt * (D * (y[j - 1] - 2 * y[j] + y[(j + 1) % size]))\n",
    "\n",
    "        # reaction via forward Euler\n",
    "        new_y[j] += dt * -y[j] * (1 - y[j]) * (alpha - y[j])\n",
    "\n",
    "    return new_y[start:end]\n",
    "\n",
    "\n",
    "pool = multiprocessing.Pool(processes=num_processors) #instantiate pool\n",
    "# advance through t is at least 100; plot every 20\n",
    "for t in numpy.arange(0, 100 + dt, dt):\n",
    "    if t % 20 == 0:\n",
    "        pyplot.plot(y, label='t = %g' % t)\n",
    "    result = pool.map(advance, start_end)\n",
    "    y[:] = [item for sublist in result for item in sublist]\n",
    "\n",
    "print('calculation: {} s'.format(time.time() - start))\n",
    "\n",
    "pyplot.legend()\n",
    "pyplot.show()"
   ]
  },
  {
   "cell_type": "markdown",
   "metadata": {},
   "source": [
    "### Original"
   ]
  },
  {
   "cell_type": "code",
   "execution_count": 2,
   "metadata": {},
   "outputs": [
    {
     "name": "stdout",
     "output_type": "stream",
     "text": [
      "7.757896661758423\n"
     ]
    },
    {
     "data": {
      "image/png": "[encoded data removed]",
      "text/plain": [
       "<matplotlib.figure.Figure at 0x7f85247ee518>"
      ]
     },
     "metadata": {},
     "output_type": "display_data"
    }
   ],
   "source": [
    "\"\"\"\n",
    "Created on Fri Apr 14 21:55:16 2017\n",
    "@author: kevin\n",
    "NON-PARALLEL\n",
    "DO NOT WRITEEEEEE!!!!!!!!!!!!!!!!!!!!!!!!!!!!!!!!!!!!!!!!!!!!!!!!!!!!!!!!!!!!!!!!!!!!!!!!!!!!!!!!!!!!!!!!!!!!!!!!!!!!!!!\n",
    "\"\"\"\n",
    "\n",
    "from matplotlib import pyplot\n",
    "import time\n",
    "start = time.time()\n",
    "# initial conditions\n",
    "y = [0] * 1000\n",
    "y[480:520] = [1] * 40\n",
    "\n",
    "# time-step\n",
    "dt = 0.01\n",
    "# our rule for reaction-diffusion\n",
    "def advance(dt):\n",
    "\tglobal y\n",
    "\tn = len(y)\n",
    "\tnew_y = list(y)\n",
    "\tfor j in range(n):\n",
    "\t\tnew_y[j] += dt * (20 * (y[j - 1] - 2 * y[j] + y[(j + 1) % n])\n",
    "\t\t\t\t\t\t   - y[j] * (1 - y[j]) * (0.3 - y[j]))\n",
    "\ty = new_y\n",
    "\n",
    "# advance through t (t = i * dt) is at least 100; plot\n",
    "# every 20\n",
    "i = 0\n",
    "while i * dt <= 100:\n",
    "\tif i * dt % 20 == 0:\n",
    "\t\tpyplot.plot(y, label='t = %g' % (i * dt))\n",
    "\tadvance(dt)\n",
    "\ti += 1\n",
    "\t#print (i * dt)\n",
    "end = time.time()\n",
    "\n",
    "elapsed = end-start\n",
    "print (elapsed)\n",
    "pyplot.legend()\n",
    "pyplot.show()"
   ]
  },
  {
   "cell_type": "code",
   "execution_count": null,
   "metadata": {},
   "outputs": [],
   "source": []
  }
 ],
 "metadata": {
  "kernelspec": {
   "display_name": "Python 3",
   "language": "python",
   "name": "python3"
  },
  "language_info": {
   "codemirror_mode": {
    "name": "ipython",
    "version": 3
   },
   "file_extension": ".py",
   "mimetype": "text/x-python",
   "name": "python",
   "nbconvert_exporter": "python",
   "pygments_lexer": "ipython3",
   "version": "3.5.2"
  },
  "varInspector": {
   "cols": {
    "lenName": 16,
    "lenType": 16,
    "lenVar": 40
   },
   "kernels_config": {
    "python": {
     "delete_cmd_postfix": "",
     "delete_cmd_prefix": "del ",
     "library": "var_list.py",
     "varRefreshCmd": "print(var_dic_list())"
    },
    "r": {
     "delete_cmd_postfix": ") ",
     "delete_cmd_prefix": "rm(",
     "library": "var_list.r",
     "varRefreshCmd": "cat(var_dic_list()) "
    }
   },
   "types_to_exclude": [
    "module",
    "function",
    "builtin_function_or_method",
    "instance",
    "_Feature"
   ],
   "window_display": false
  }
 },
 "nbformat": 4,
 "nbformat_minor": 2
}
